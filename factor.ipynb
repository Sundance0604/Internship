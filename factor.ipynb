{
 "cells": [
  {
   "cell_type": "code",
   "execution_count": 11,
   "id": "8448cae7",
   "metadata": {},
   "outputs": [
    {
     "data": {
      "text/plain": [
       ".ErrorCode=0\n",
       ".Data=[Already connected!]"
      ]
     },
     "execution_count": 11,
     "metadata": {},
     "output_type": "execute_result"
    }
   ],
   "source": [
    "from WindPy import w\n",
    "w.start()"
   ]
  },
  {
   "cell_type": "code",
   "execution_count": null,
   "id": "8ec21e49",
   "metadata": {},
   "outputs": [],
   "source": [
    "import pandas as pd\n",
    "import time"
   ]
  },
  {
   "cell_type": "code",
   "execution_count": null,
   "id": "26629db7",
   "metadata": {},
   "outputs": [
    {
     "name": "stdout",
     "output_type": "stream",
     "text": [
      "Welcome to use Wind Quant API for Python (WindPy)!\n",
      "\n",
      "COPYRIGHT (C) 2024 WIND INFORMATION CO., LTD. ALL RIGHTS RESERVED.\n",
      "IN NO CIRCUMSTANCE SHALL WIND BE RESPONSIBLE FOR ANY DAMAGES OR LOSSES CAUSED BY USING WIND QUANT API FOR Python.\n"
     ]
    }
   ],
   "source": [
    "import new_factor as nf\n",
    "import pandas as pd\n",
    "\n",
    "myfactor = nf.NewFactor()\n",
    "\n",
    "myfactor.get_spread_by_codes('CDB','national').to_excel(\"国债国开利差.xlsx\")\n",
    "myfactor.get_spread_by_codes('perpetual','tier2').to_excel(\"永续二级利差.xlsx\")\n",
    "myfactor.get_spread_by_codes('national','national').to_excel(\"永续国债利差.xlsx\")\n",
    "myfactor.get_spread_by_codes('tier2','CDB').to_excel(\"二级国开利差.xlsx\")\n",
    "myfactor.get_spread_by_codes('SHIBOR','FR007').to_excel(\"SHIBOR FR007利差.xlsx\")\n",
    "myfactor.get_spread_by_codes('national','FR007').to_excel(\"FR007 国债利差.xlsx\")\n"
   ]
  },
  {
   "cell_type": "code",
   "execution_count": 1,
   "id": "d3100d11",
   "metadata": {},
   "outputs": [
    {
     "name": "stdout",
     "output_type": "stream",
     "text": [
      "Welcome to use Wind Quant API for Python (WindPy)!\n",
      "\n",
      "COPYRIGHT (C) 2024 WIND INFORMATION CO., LTD. ALL RIGHTS RESERVED.\n",
      "IN NO CIRCUMSTANCE SHALL WIND BE RESPONSIBLE FOR ANY DAMAGES OR LOSSES CAUSED BY USING WIND QUANT API FOR Python.\n"
     ]
    }
   ],
   "source": [
    "import new_factor as nf\n",
    "import pandas as pd\n",
    "myfactor = nf.NewFactor()\n",
    "\n",
    "# myfactor.get_spread('national').to_excel('国债期限利差.xlsx')"
   ]
  },
  {
   "cell_type": "code",
   "execution_count": 2,
   "id": "242adcf4",
   "metadata": {},
   "outputs": [
    {
     "name": "stdout",
     "output_type": "stream",
     "text": [
      "Welcome to use Wind Quant API for Python (WindPy)!\n",
      "\n",
      "COPYRIGHT (C) 2024 WIND INFORMATION CO., LTD. ALL RIGHTS RESERVED.\n",
      "IN NO CIRCUMSTANCE SHALL WIND BE RESPONSIBLE FOR ANY DAMAGES OR LOSSES CAUSED BY USING WIND QUANT API FOR Python.\n"
     ]
    }
   ],
   "source": [
    "import new_factor as nf\n",
    "import pandas as pd\n",
    "myfactor = nf.NewFactor()\n",
    "\n",
    "myfactor.get_spread_by_codes('SHIBOR','FR007').to_excel(\"SHIBOR FR007利差.xlsx\")"
   ]
  },
  {
   "cell_type": "code",
   "execution_count": 3,
   "id": "4b1da136",
   "metadata": {},
   "outputs": [],
   "source": [
    "myfactor.get_data('SHIBOR').to_excel(\"SHIBOR数据.xlsx\")"
   ]
  },
  {
   "cell_type": "code",
   "execution_count": 2,
   "id": "484eb72e",
   "metadata": {},
   "outputs": [
    {
     "name": "stderr",
     "output_type": "stream",
     "text": [
      "d:\\mycodelife\\workshop\\yinhe\\new_factor.py:221: FutureWarning: errors='ignore' is deprecated and will raise in a future version. Use to_datetime without passing `errors` and catch exceptions explicitly instead\n",
      "  df.index = pd.to_datetime(df.index, errors=\"ignore\")  # 如果是日期可以解析成日期型\n",
      "d:\\mycodelife\\workshop\\yinhe\\new_factor.py:221: FutureWarning: errors='ignore' is deprecated and will raise in a future version. Use to_datetime without passing `errors` and catch exceptions explicitly instead\n",
      "  df.index = pd.to_datetime(df.index, errors=\"ignore\")  # 如果是日期可以解析成日期型\n",
      "d:\\mycodelife\\workshop\\yinhe\\new_factor.py:221: FutureWarning: errors='ignore' is deprecated and will raise in a future version. Use to_datetime without passing `errors` and catch exceptions explicitly instead\n",
      "  df.index = pd.to_datetime(df.index, errors=\"ignore\")  # 如果是日期可以解析成日期型\n",
      "d:\\mycodelife\\workshop\\yinhe\\new_factor.py:221: FutureWarning: errors='ignore' is deprecated and will raise in a future version. Use to_datetime without passing `errors` and catch exceptions explicitly instead\n",
      "  df.index = pd.to_datetime(df.index, errors=\"ignore\")  # 如果是日期可以解析成日期型\n",
      "d:\\mycodelife\\workshop\\yinhe\\new_factor.py:221: FutureWarning: errors='ignore' is deprecated and will raise in a future version. Use to_datetime without passing `errors` and catch exceptions explicitly instead\n",
      "  df.index = pd.to_datetime(df.index, errors=\"ignore\")  # 如果是日期可以解析成日期型\n",
      "d:\\mycodelife\\workshop\\yinhe\\new_factor.py:221: FutureWarning: errors='ignore' is deprecated and will raise in a future version. Use to_datetime without passing `errors` and catch exceptions explicitly instead\n",
      "  df.index = pd.to_datetime(df.index, errors=\"ignore\")  # 如果是日期可以解析成日期型\n",
      "d:\\mycodelife\\workshop\\yinhe\\new_factor.py:221: FutureWarning: errors='ignore' is deprecated and will raise in a future version. Use to_datetime without passing `errors` and catch exceptions explicitly instead\n",
      "  df.index = pd.to_datetime(df.index, errors=\"ignore\")  # 如果是日期可以解析成日期型\n"
     ]
    }
   ],
   "source": [
    "myfactor.merge_data()"
   ]
  },
  {
   "cell_type": "code",
   "execution_count": 1,
   "id": "0cec9b4d",
   "metadata": {},
   "outputs": [
    {
     "data": {
      "text/plain": [
       "dtype('<M8[ns]')"
      ]
     },
     "execution_count": 1,
     "metadata": {},
     "output_type": "execute_result"
    }
   ],
   "source": [
    "import pandas as pd\n",
    "\n",
    "df = pd.read_excel('中债国债到期收益率_10年.xlsx')\n",
    "df['date'].dtype"
   ]
  },
  {
   "cell_type": "code",
   "execution_count": 2,
   "id": "3c69fb74",
   "metadata": {},
   "outputs": [
    {
     "name": "stdout",
     "output_type": "stream",
     "text": [
      "datetime64[ns]\n",
      "0   2025-08-13\n",
      "1   2025-08-12\n",
      "2   2025-08-11\n",
      "3   2025-08-08\n",
      "4   2025-08-07\n",
      "Name: date, dtype: datetime64[ns]\n"
     ]
    }
   ],
   "source": [
    "df['date'] = pd.to_datetime(df['date'])\n",
    "print(df['date'].dtype)\n",
    "print(df['date'].head())"
   ]
  }
 ],
 "metadata": {
  "kernelspec": {
   "display_name": "lau",
   "language": "python",
   "name": "python3"
  },
  "language_info": {
   "codemirror_mode": {
    "name": "ipython",
    "version": 3
   },
   "file_extension": ".py",
   "mimetype": "text/x-python",
   "name": "python",
   "nbconvert_exporter": "python",
   "pygments_lexer": "ipython3",
   "version": "3.13.5"
  }
 },
 "nbformat": 4,
 "nbformat_minor": 5
}
